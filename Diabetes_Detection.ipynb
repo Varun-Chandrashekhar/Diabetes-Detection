{
  "nbformat": 4,
  "nbformat_minor": 0,
  "metadata": {
    "colab": {
      "name": "Diabetes_Detection.ipynb",
      "provenance": [],
      "toc_visible": true
    },
    "kernelspec": {
      "name": "python3",
      "display_name": "Python 3"
    }
  },
  "cells": [
    {
      "cell_type": "markdown",
      "metadata": {
        "id": "us28we8vhI8q"
      },
      "source": [
        "#Updating Enviornment"
      ]
    },
    {
      "cell_type": "code",
      "metadata": {
        "id": "cxStbnrUhI8s",
        "colab": {
          "base_uri": "https://localhost:8080/"
        },
        "outputId": "85faf302-72b6-46bd-fb02-023642eead15"
      },
      "source": [
        "!pip install -U ipykernel"
      ],
      "execution_count": null,
      "outputs": [
        {
          "output_type": "stream",
          "text": [
            "Requirement already up-to-date: ipykernel in /usr/local/lib/python3.6/dist-packages (5.3.4)\n",
            "Requirement already satisfied, skipping upgrade: tornado>=4.2 in /usr/local/lib/python3.6/dist-packages (from ipykernel) (5.1.1)\n",
            "Requirement already satisfied, skipping upgrade: ipython>=5.0.0 in /usr/local/lib/python3.6/dist-packages (from ipykernel) (5.5.0)\n",
            "Requirement already satisfied, skipping upgrade: jupyter-client in /usr/local/lib/python3.6/dist-packages (from ipykernel) (5.3.5)\n",
            "Requirement already satisfied, skipping upgrade: traitlets>=4.1.0 in /usr/local/lib/python3.6/dist-packages (from ipykernel) (4.3.3)\n",
            "Requirement already satisfied, skipping upgrade: prompt-toolkit<2.0.0,>=1.0.4 in /usr/local/lib/python3.6/dist-packages (from ipython>=5.0.0->ipykernel) (1.0.18)\n",
            "Requirement already satisfied, skipping upgrade: pygments in /usr/local/lib/python3.6/dist-packages (from ipython>=5.0.0->ipykernel) (2.6.1)\n",
            "Requirement already satisfied, skipping upgrade: decorator in /usr/local/lib/python3.6/dist-packages (from ipython>=5.0.0->ipykernel) (4.4.2)\n",
            "Requirement already satisfied, skipping upgrade: setuptools>=18.5 in /usr/local/lib/python3.6/dist-packages (from ipython>=5.0.0->ipykernel) (50.3.2)\n",
            "Requirement already satisfied, skipping upgrade: pexpect; sys_platform != \"win32\" in /usr/local/lib/python3.6/dist-packages (from ipython>=5.0.0->ipykernel) (4.8.0)\n",
            "Requirement already satisfied, skipping upgrade: pickleshare in /usr/local/lib/python3.6/dist-packages (from ipython>=5.0.0->ipykernel) (0.7.5)\n",
            "Requirement already satisfied, skipping upgrade: simplegeneric>0.8 in /usr/local/lib/python3.6/dist-packages (from ipython>=5.0.0->ipykernel) (0.8.1)\n",
            "Requirement already satisfied, skipping upgrade: pyzmq>=13 in /usr/local/lib/python3.6/dist-packages (from jupyter-client->ipykernel) (19.0.2)\n",
            "Requirement already satisfied, skipping upgrade: python-dateutil>=2.1 in /usr/local/lib/python3.6/dist-packages (from jupyter-client->ipykernel) (2.8.1)\n",
            "Requirement already satisfied, skipping upgrade: jupyter-core>=4.6.0 in /usr/local/lib/python3.6/dist-packages (from jupyter-client->ipykernel) (4.6.3)\n",
            "Requirement already satisfied, skipping upgrade: six in /usr/local/lib/python3.6/dist-packages (from traitlets>=4.1.0->ipykernel) (1.15.0)\n",
            "Requirement already satisfied, skipping upgrade: ipython-genutils in /usr/local/lib/python3.6/dist-packages (from traitlets>=4.1.0->ipykernel) (0.2.0)\n",
            "Requirement already satisfied, skipping upgrade: wcwidth in /usr/local/lib/python3.6/dist-packages (from prompt-toolkit<2.0.0,>=1.0.4->ipython>=5.0.0->ipykernel) (0.2.5)\n",
            "Requirement already satisfied, skipping upgrade: ptyprocess>=0.5 in /usr/local/lib/python3.6/dist-packages (from pexpect; sys_platform != \"win32\"->ipython>=5.0.0->ipykernel) (0.6.0)\n"
          ],
          "name": "stdout"
        }
      ]
    },
    {
      "cell_type": "code",
      "metadata": {
        "id": "elgl4LfBhI8v",
        "colab": {
          "base_uri": "https://localhost:8080/"
        },
        "outputId": "8de01dbd-d02c-4e4e-c9c7-c8bed8419f76"
      },
      "source": [
        "!pip install -q streamlit"
      ],
      "execution_count": null,
      "outputs": [
        {
          "output_type": "stream",
          "text": [
            "\u001b[?25l\r\u001b[K     |██▋                             | 10kB 20.9MB/s eta 0:00:01\r\u001b[K     |█████▏                          | 20kB 24.7MB/s eta 0:00:01\r\u001b[K     |███████▊                        | 30kB 15.2MB/s eta 0:00:01\r\u001b[K     |██████████▎                     | 40kB 11.2MB/s eta 0:00:01\r\u001b[K     |████████████▉                   | 51kB 5.6MB/s eta 0:00:01\r\u001b[K     |███████████████▍                | 61kB 6.0MB/s eta 0:00:01\r\u001b[K     |██████████████████              | 71kB 6.4MB/s eta 0:00:01\r\u001b[K     |████████████████████▌           | 81kB 6.8MB/s eta 0:00:01\r\u001b[K     |███████████████████████         | 92kB 7.0MB/s eta 0:00:01\r\u001b[K     |█████████████████████████▋      | 102kB 7.0MB/s eta 0:00:01\r\u001b[K     |████████████████████████████▏   | 112kB 7.0MB/s eta 0:00:01\r\u001b[K     |██████████████████████████████▊ | 122kB 7.0MB/s eta 0:00:01\r\u001b[K     |████████████████████████████████| 133kB 7.0MB/s \n",
            "\u001b[31mERROR: google-colab 1.0.0 has requirement ipykernel~=4.10, but you'll have ipykernel 5.3.4 which is incompatible.\u001b[0m\n",
            "\u001b[31mERROR: datascience 0.10.6 has requirement folium==0.2.1, but you'll have folium 0.8.3 which is incompatible.\u001b[0m\n",
            "\u001b[?25h"
          ],
          "name": "stdout"
        }
      ]
    },
    {
      "cell_type": "code",
      "metadata": {
        "id": "4Og-WpWyhI8y",
        "colab": {
          "base_uri": "https://localhost:8080/"
        },
        "outputId": "40c6ba81-017d-4b39-afcd-2289db73a1fc"
      },
      "source": [
        "pip install --upgrade Pillow"
      ],
      "execution_count": null,
      "outputs": [
        {
          "output_type": "stream",
          "text": [
            "Requirement already up-to-date: Pillow in /usr/local/lib/python3.6/dist-packages (8.0.1)\n"
          ],
          "name": "stdout"
        }
      ]
    },
    {
      "cell_type": "code",
      "metadata": {
        "id": "Ucb1fye4hI80",
        "colab": {
          "base_uri": "https://localhost:8080/"
        },
        "outputId": "30b9901a-1f0c-4fdc-e922-33566be99592"
      },
      "source": [
        "!pip install pyngrok"
      ],
      "execution_count": null,
      "outputs": [
        {
          "output_type": "stream",
          "text": [
            "Requirement already satisfied: pyngrok in /usr/local/lib/python3.6/dist-packages (5.0.0)\n",
            "Requirement already satisfied: PyYAML in /usr/local/lib/python3.6/dist-packages (from pyngrok) (3.13)\n"
          ],
          "name": "stdout"
        }
      ]
    },
    {
      "cell_type": "code",
      "metadata": {
        "id": "1oxm-LCohI83"
      },
      "source": [
        "from pyngrok import ngrok\n",
        "!pgrep streamlit\n",
        "ngrok.kill()"
      ],
      "execution_count": null,
      "outputs": []
    },
    {
      "cell_type": "markdown",
      "metadata": {
        "id": "YNVeleP4hI85"
      },
      "source": [
        "# Importing Libraries"
      ]
    },
    {
      "cell_type": "code",
      "metadata": {
        "id": "prshSNbHhI86"
      },
      "source": [
        "import streamlit as st # Web application\n",
        "from PIL import Image # Image processing\n",
        "from io import BytesIO # Image conversion\n",
        "import csv\n",
        "import numpy as np # linear algebra\n",
        "import pandas as pd # data processing"
      ],
      "execution_count": null,
      "outputs": []
    },
    {
      "cell_type": "code",
      "metadata": {
        "id": "4YVPsjIYhI88",
        "colab": {
          "base_uri": "https://localhost:8080/"
        },
        "outputId": "82064f93-bd0d-456b-e245-60724e72e968"
      },
      "source": [
        "from google.colab import drive\n",
        "drive.mount('/content/gdrive')"
      ],
      "execution_count": null,
      "outputs": [
        {
          "output_type": "stream",
          "text": [
            "Mounted at /content/gdrive\n"
          ],
          "name": "stdout"
        }
      ]
    },
    {
      "cell_type": "markdown",
      "metadata": {
        "id": "UJ2UECEW-Yj-"
      },
      "source": [
        "#Streamlit"
      ]
    },
    {
      "cell_type": "code",
      "metadata": {
        "id": "dEl8wOjAVOo5"
      },
      "source": [
        "from pyngrok import ngrok\n",
        "!pgrep streamlit\n",
        "ngrok.kill()\n",
        "from pyngrok import ngrok\n",
        "import streamlit as st"
      ],
      "execution_count": null,
      "outputs": []
    },
    {
      "cell_type": "code",
      "metadata": {
        "id": "AygHznEa6jaq",
        "colab": {
          "base_uri": "https://localhost:8080/"
        },
        "outputId": "fb77e85e-98d2-4770-841b-af9c91b6d67a"
      },
      "source": [
        "%%writefile diabetes.py\n",
        "# Description: This program detects if somoeone has diabetes using Machine Learning and Python\n",
        "\n",
        "# Import the Libraries\n",
        "import pandas as pd\n",
        "from sklearn.metrics import accuracy_score\n",
        "from sklearn.model_selection import train_test_split\n",
        "from sklearn.ensemble import RandomForestClassifier\n",
        "from PIL import Image\n",
        "import streamlit as st\n",
        "\n",
        "#Create a title and a sub-title\n",
        "st.write(\"\"\"\n",
        "# Diabetes Detection\n",
        "Detect if someone has diabetes using Machine Learning with Python - By Varun Chandrashekhar\n",
        "\"\"\")\n",
        "\n",
        "#Open and Display an Image\n",
        "image = Image.open('/content/gdrive/My Drive/Machine Learning Web Application/Diabetes Detection/ML_webapp.PNG')\n",
        "st.image(image, caption = 'ML', use_column_width=True)\n",
        "\n",
        "#Get the Data\n",
        "df = pd.read_csv('/content/gdrive/My Drive/Machine Learning Web Application/Diabetes Detection/diabetes.csv')\n",
        "#Set a subheader\n",
        "st.subheader('Data Information: ')\n",
        "# Show  the data as a table\n",
        "st.dataframe(df)\n",
        "#show statistics on the data\n",
        "st.write(df.describe())\n",
        "#show the data as a chart\n",
        "chart = st.bar_chart(df)\n",
        "#Split the data into independent 'X' anddependent 'Y' variables\n",
        "X = df.iloc[:, 0:8].values\n",
        "Y = df.iloc[:, -1].values\n",
        "#split the dataset into 80 percent training and 20 percent test\n",
        "X_train, X_test, Y_train, Y_test = train_test_split(X, Y, test_size = 0.25, random_state=0)\n",
        "\n",
        "#Get the feature input from the user\n",
        "def get_user_input():\n",
        "    Pregnancies = st.sidebar.slider('Pregnancies', 0, 20, 0)\n",
        "    Glucose = st.sidebar.slider('Glucose', 0, 200, 115)\n",
        "    Blood_Pressure = st.sidebar.slider('Blood Pressure', 0, 125, 75)\n",
        "    Skin_Thickness = st.sidebar.slider('Skin Thickness', 0, 100, 25)\n",
        "    Insulin = st.sidebar.slider('Insulin', 0.0, 850.0, 30.0)\n",
        "    BMI = st.sidebar.slider('Body Mass Index (BMI)', 0.0, 70.0, 30.0)\n",
        "    DPF= st.sidebar.slider('Diabetes Prediction Factor (DPF)', 0.078, 2.500, 0.3725)\n",
        "    Age = st.sidebar.slider('Age', 20, 90, 30)\n",
        "\n",
        "    #Store a dictionary into a variable\n",
        "    user_data = {'Pregnancies': Pregnancies,\n",
        "              'Glucose': Glucose,\n",
        "              'Blood Pressure': Blood_Pressure,\n",
        "              'Skin Thickness': Skin_Thickness,\n",
        "              'Insulin': Insulin,\n",
        "              'Body Mass Index (BMI)': BMI,\n",
        "              'Diabetes Prediction Factor (DPF)': DPF,\n",
        "              'Age': Age\n",
        "              }\n",
        "\n",
        "    #Transform the data into a dataframe\n",
        "    features = pd.DataFrame(user_data, index = [0])\n",
        "    return features\n",
        "\n",
        "# store the user input into a variable\n",
        "user_input = get_user_input()\n",
        "\n",
        "#Set a subheader and display the users input\n",
        "st.subheader('User Input: ')\n",
        "st.write(user_input)\n",
        "\n",
        "#create and train the model\n",
        "RandomForestClassifier = RandomForestClassifier()\n",
        "RandomForestClassifier.fit(X_train,Y_train)\n",
        "\n",
        "#show the model_metrics\n",
        "st.subheader('Model Test Accuracy Score: ')\n",
        "st.write( str(accuracy_score(Y_test, RandomForestClassifier.predict(X_test)) * 100)+ '5')\n",
        "\n",
        "# store the models predictions in a variable\n",
        "prediction = RandomForestClassifier.predict(user_input)\n",
        "\n",
        "#set a subheader and display the classification\n",
        "st.subheader('Classification:')\n",
        "st.write(prediction)\n",
        "\n",
        "\n",
        "\n"
      ],
      "execution_count": null,
      "outputs": [
        {
          "output_type": "stream",
          "text": [
            "Writing diabetes.py\n"
          ],
          "name": "stdout"
        }
      ]
    },
    {
      "cell_type": "code",
      "metadata": {
        "id": "9P0YCg9xYBrx",
        "colab": {
          "base_uri": "https://localhost:8080/"
        },
        "outputId": "45b47ad6-70ed-4905-fc43-e394b619c669"
      },
      "source": [
        "!nohup streamlit run diabetes.py &"
      ],
      "execution_count": null,
      "outputs": [
        {
          "output_type": "stream",
          "text": [
            "nohup: appending output to 'nohup.out'\n"
          ],
          "name": "stdout"
        }
      ]
    },
    {
      "cell_type": "code",
      "metadata": {
        "id": "R-E9dF9J6jaw",
        "colab": {
          "base_uri": "https://localhost:8080/"
        },
        "outputId": "c0260568-3684-48e7-9a48-6a3852e88007"
      },
      "source": [
        "!streamlit run diabetes.py &>/dev/null&\n",
        "# Setup a tunnel to the streamlit port 8501\n",
        "public_url = ngrok.connect(port='8501')\n",
        "public_url"
      ],
      "execution_count": null,
      "outputs": [
        {
          "output_type": "stream",
          "text": [
            "2020-11-12 12:09:04.678 INFO    pyngrok.ngrok: Opening tunnel named: http-80-acf7a571-a830-40f1-9c7e-b466b031a183\n"
          ],
          "name": "stderr"
        },
        {
          "output_type": "stream",
          "text": [
            ""
          ],
          "name": "stdout"
        },
        {
          "output_type": "stream",
          "text": [
            "2020-11-12 12:09:06.075 INFO    pyngrok.process.ngrok: t=2020-11-12T12:09:06+0000 lvl=info msg=\"no configuration paths supplied\"\n",
            "2020-11-12 12:09:06.080 INFO    pyngrok.process.ngrok: t=2020-11-12T12:09:06+0000 lvl=info msg=\"using configuration at default config path\" path=/root/.ngrok2/ngrok.yml\n",
            "2020-11-12 12:09:06.084 INFO    pyngrok.process.ngrok: t=2020-11-12T12:09:06+0000 lvl=info msg=\"open config file\" path=/root/.ngrok2/ngrok.yml err=nil\n",
            "2020-11-12 12:09:06.085 INFO    pyngrok.process.ngrok: t=2020-11-12T12:09:06+0000 lvl=info msg=\"starting web service\" obj=web addr=127.0.0.1:4040\n",
            "2020-11-12 12:09:06.246 INFO    pyngrok.process.ngrok: t=2020-11-12T12:09:06+0000 lvl=info msg=\"tunnel session started\" obj=tunnels.session\n",
            "2020-11-12 12:09:06.250 INFO    pyngrok.process.ngrok: t=2020-11-12T12:09:06+0000 lvl=info msg=\"client session established\" obj=csess id=3213978d3d57\n",
            "2020-11-12 12:09:06.270 INFO    pyngrok.process.ngrok: t=2020-11-12T12:09:06+0000 lvl=info msg=start pg=/api/tunnels id=c53824df081c950f\n",
            "2020-11-12 12:09:06.271 INFO    pyngrok.process.ngrok: t=2020-11-12T12:09:06+0000 lvl=info msg=end pg=/api/tunnels id=c53824df081c950f status=200 dur=396.02µs\n",
            "2020-11-12 12:09:06.272 INFO    pyngrok.process.ngrok: t=2020-11-12T12:09:06+0000 lvl=info msg=start pg=/api/tunnels id=7ed1d2c0de801aa1\n",
            "2020-11-12 12:09:06.275 INFO    pyngrok.process.ngrok: t=2020-11-12T12:09:06+0000 lvl=info msg=end pg=/api/tunnels id=7ed1d2c0de801aa1 status=200 dur=122.855µs\n",
            "2020-11-12 12:09:06.278 INFO    pyngrok.process.ngrok: t=2020-11-12T12:09:06+0000 lvl=info msg=start pg=/api/tunnels id=aaf64550e59c3d62\n",
            "2020-11-12 12:09:06.336 INFO    pyngrok.process.ngrok: t=2020-11-12T12:09:06+0000 lvl=info msg=\"started tunnel\" obj=tunnels name=\"http-80-acf7a571-a830-40f1-9c7e-b466b031a183 (http)\" addr=http://localhost:80 url=http://3a3ab923a357.ngrok.io\n",
            "2020-11-12 12:09:06.340 INFO    pyngrok.process.ngrok: t=2020-11-12T12:09:06+0000 lvl=info msg=\"started tunnel\" obj=tunnels name=http-80-acf7a571-a830-40f1-9c7e-b466b031a183 addr=http://localhost:80 url=https://3a3ab923a357.ngrok.io\n",
            "2020-11-12 12:09:06.341 INFO    pyngrok.process.ngrok: t=2020-11-12T12:09:06+0000 lvl=info msg=end pg=/api/tunnels id=aaf64550e59c3d62 status=201 dur=66.43839ms\n",
            "2020-11-12 12:09:06.345 INFO    pyngrok.process.ngrok: t=2020-11-12T12:09:06+0000 lvl=info msg=start pg=\"/api/tunnels/http-80-acf7a571-a830-40f1-9c7e-b466b031a183 (http)\" id=8e74b9620e92bac5\n",
            "2020-11-12 12:09:06.348 INFO    pyngrok.process.ngrok: t=2020-11-12T12:09:06+0000 lvl=info msg=end pg=\"/api/tunnels/http-80-acf7a571-a830-40f1-9c7e-b466b031a183 (http)\" id=8e74b9620e92bac5 status=200 dur=158.874µs\n"
          ],
          "name": "stderr"
        },
        {
          "output_type": "execute_result",
          "data": {
            "text/plain": [
              "<NgrokTunnel: \"http://3a3ab923a357.ngrok.io\" -> \"http://localhost:80\">"
            ]
          },
          "metadata": {
            "tags": []
          },
          "execution_count": 11
        }
      ]
    },
    {
      "cell_type": "code",
      "metadata": {
        "id": "LWNy4nrdAEGS"
      },
      "source": [
        ""
      ],
      "execution_count": null,
      "outputs": []
    }
  ]
}